{
 "cells": [
  {
   "cell_type": "markdown",
   "metadata": {},
   "source": [
    "# Explore the dataset\n",
    "\n",
    "\n",
    "In this notebook, we will perform an EDA (Exploratory Data Analysis) on the processed Waymo dataset (data in the `processed` folder). In the first part, you will create a function to display "
   ]
  },
  {
   "cell_type": "code",
   "execution_count": 1,
   "metadata": {},
   "outputs": [],
   "source": [
    "from utils import get_dataset\n",
    "import glob\n",
    "import matplotlib.pyplot as plt\n",
    "import matplotlib.patches as patches\n",
    "import numpy as np\n",
    "import tensorflow as tf\n",
    "\n",
    "%matplotlib inline"
   ]
  },
  {
   "cell_type": "code",
   "execution_count": 2,
   "metadata": {},
   "outputs": [
    {
     "name": "stdout",
     "output_type": "stream",
     "text": [
      "INFO:tensorflow:Reading unweighted datasets: ['/home/workspace/data/train/*.tfrecord']\n",
      "INFO:tensorflow:Reading record datasets for input file: ['/home/workspace/data/train/*.tfrecord']\n",
      "INFO:tensorflow:Number of filenames to read: 86\n",
      "WARNING:tensorflow:From /data/virtual_envs/sdc-c1-gpu-augment/lib/python3.7/site-packages/object_detection/builders/dataset_builder.py:105: parallel_interleave (from tensorflow.python.data.experimental.ops.interleave_ops) is deprecated and will be removed in a future version.\n",
      "Instructions for updating:\n",
      "Use `tf.data.Dataset.interleave(map_func, cycle_length, block_length, num_parallel_calls=tf.data.experimental.AUTOTUNE)` instead. If sloppy execution is desired, use `tf.data.Options.experimental_deterministic`.\n",
      "WARNING:tensorflow:From /data/virtual_envs/sdc-c1-gpu-augment/lib/python3.7/site-packages/object_detection/builders/dataset_builder.py:237: DatasetV1.map_with_legacy_function (from tensorflow.python.data.ops.dataset_ops) is deprecated and will be removed in a future version.\n",
      "Instructions for updating:\n",
      "Use `tf.data.Dataset.map()\n"
     ]
    }
   ],
   "source": [
    "dataset = get_dataset(\"/home/workspace/data/train/*.tfrecord\")"
   ]
  },
  {
   "cell_type": "code",
   "execution_count": 5,
   "metadata": {},
   "outputs": [],
   "source": [
    "def display_images(batch):\n",
    "\n",
    "    for index, plotdata in enumerate(batch):\n",
    "        fig, ax = plt.subplots(nrows = 1, ncols=1)\n",
    "\n",
    "        rectangle_boxes_list = plotdata['groundtruth_boxes']\n",
    "        rectangle_boxes_class_list = plotdata['groundtruth_classes']\n",
    "        plotdata_filename = plotdata['filename'].numpy()\n",
    "        image_data = plotdata['image']\n",
    "        img_height = image_data.shape[0]\n",
    "        img_width = image_data.shape[1]\n",
    "        ax.imshow(image_data, interpolation='nearest')\n",
    "        \n",
    "        # Create a Rectangle patch\n",
    "        for rectangle, rectangle_class in zip(rectangle_boxes_list, rectangle_boxes_class_list):\n",
    "            x1 = rectangle[0]*img_width\n",
    "            y1 = rectangle[1]*img_height\n",
    "            x2 = rectangle[2]*img_width\n",
    "            y2 = rectangle[3]*img_height\n",
    "            length = abs(y2 - y1)\n",
    "            width = abs(x2 -x1)\n",
    "            color = 'w'\n",
    "            if rectangle_class == 1:\n",
    "                color = 'r'\n",
    "            elif rectangle_class == 2:\n",
    "                color ='g'\n",
    "            else:\n",
    "                color = 'b'\n",
    "\n",
    "            rect = patches.Rectangle((y1, x1), length, width, edgecolor=color, facecolor='none')\n",
    "            # Add the patch to the Axes\n",
    "            ax.add_patch(rect)\n",
    "\n",
    "        plt.show()\n",
    "        plt.close(fig)\n",
    "    \n",
    "    return"
   ]
  },
  {
   "cell_type": "markdown",
   "metadata": {},
   "source": [
    "## Display 10 images \n",
    "\n",
    "Using the dataset created in the second cell and the function you just coded, display 10 random images with the associated bounding boxes. You can use the methods `take` and `shuffle` on the dataset."
   ]
  },
  {
   "cell_type": "markdown",
   "metadata": {},
   "source": [
    "## Write a function to display an image and the bounding boxes\n",
    "\n",
    "Implement the `display_images` function below. This function takes a batch as an input and display an image with its corresponding bounding boxes. The only requirement is that the classes should be color coded (eg, vehicles in red, pedestrians in blue, cyclist in green)."
   ]
  },
  {
   "cell_type": "code",
   "execution_count": 7,
   "metadata": {
    "scrolled": false
   },
   "outputs": [
    {
     "name": "stdout",
     "output_type": "stream",
     "text": [
      "{'image': <tf.Tensor: shape=(640, 640, 3), dtype=uint8, numpy=\n",
      "array([[[111, 101,  91],\n",
      "        [111, 101,  91],\n",
      "        [109, 100,  91],\n",
      "        ...,\n",
      "        [141, 144, 153],\n",
      "        [122, 125, 134],\n",
      "        [ 87,  90,  99]],\n",
      "\n",
      "       [[109,  99,  89],\n",
      "        [111, 101,  91],\n",
      "        [109, 100,  91],\n",
      "        ...,\n",
      "        [144, 147, 156],\n",
      "        [114, 117, 126],\n",
      "        [105, 108, 117]],\n",
      "\n",
      "       [[109,  99,  89],\n",
      "        [112, 102,  92],\n",
      "        [110, 101,  92],\n",
      "        ...,\n",
      "        [144, 147, 156],\n",
      "        [115, 118, 127],\n",
      "        [125, 128, 137]],\n",
      "\n",
      "       ...,\n",
      "\n",
      "       [[ 66,  78,  90],\n",
      "        [ 66,  78,  90],\n",
      "        [ 65,  77,  89],\n",
      "        ...,\n",
      "        [ 67,  84, 102],\n",
      "        [ 69,  84, 103],\n",
      "        [ 69,  84, 103]],\n",
      "\n",
      "       [[ 66,  78,  90],\n",
      "        [ 66,  78,  90],\n",
      "        [ 61,  73,  85],\n",
      "        ...,\n",
      "        [ 67,  84, 104],\n",
      "        [ 69,  84, 105],\n",
      "        [ 69,  84, 105]],\n",
      "\n",
      "       [[ 68,  80,  92],\n",
      "        [ 67,  79,  91],\n",
      "        [ 60,  72,  84],\n",
      "        ...,\n",
      "        [ 68,  85, 105],\n",
      "        [ 70,  85, 106],\n",
      "        [ 69,  84, 105]]], dtype=uint8)>, 'source_id': <tf.Tensor: shape=(), dtype=string, numpy=b'segment-10498013744573185290_1240_000_1260_000_with_camera_labels_170.tfrecord'>, 'key': <tf.Tensor: shape=(), dtype=string, numpy=b''>, 'filename': <tf.Tensor: shape=(), dtype=string, numpy=b'segment-10498013744573185290_1240_000_1260_000_with_camera_labels_170.tfrecord'>, 'groundtruth_image_confidences': <tf.Tensor: shape=(0,), dtype=float32, numpy=array([], dtype=float32)>, 'groundtruth_verified_neg_classes': <tf.Tensor: shape=(0,), dtype=int64, numpy=array([], dtype=int64)>, 'groundtruth_not_exhaustive_classes': <tf.Tensor: shape=(0,), dtype=int64, numpy=array([], dtype=int64)>, 'groundtruth_boxes': <tf.Tensor: shape=(32, 4), dtype=float32, numpy=\n",
      "array([[0.51168656, 0.6370177 , 0.53635806, 0.65642595],\n",
      "       [0.5037917 , 0.32944655, 0.63109654, 0.3580655 ],\n",
      "       [0.5107814 , 0.5371249 , 0.5369332 , 0.55455935],\n",
      "       [0.5166209 , 0.25296494, 0.6518206 , 0.2891498 ],\n",
      "       [0.5037917 , 0.3549404 , 0.6064251 , 0.37599343],\n",
      "       [0.51958144, 0.6533009 , 0.55116093, 0.68093294],\n",
      "       [0.52303547, 0.48405454, 0.6256688 , 0.5192525 ],\n",
      "       [0.5146472 , 0.6779724 , 0.5699113 , 0.72402585],\n",
      "       [0.5120971 , 0.10027627, 0.62805307, 0.13547425],\n",
      "       [0.52870953, 0.601654  , 0.6278884 , 0.6227069 ],\n",
      "       [0.54277265, 0.84096867, 0.61580026, 0.8978776 ],\n",
      "       [0.52920336, 0.7602107 , 0.6214747 , 0.8477122 ],\n",
      "       [0.5030516 , 0.59211564, 0.5637434 , 0.60330003],\n",
      "       [0.53522295, 0.855113  , 0.54795355, 0.8620211 ],\n",
      "       [0.5110944 , 0.4567511 , 0.55767417, 0.46918556],\n",
      "       [0.50601214, 0.5972144 , 0.56571716, 0.6100436 ],\n",
      "       [0.51218003, 0.5235289 , 0.53586465, 0.54754245],\n",
      "       [0.48627496, 0.        , 0.68611395, 0.07023149],\n",
      "       [0.4870151 , 0.5551084 , 0.5284632 , 0.57451665],\n",
      "       [0.5144004 , 0.568431  , 0.53660476, 0.5868524 ],\n",
      "       [0.51242673, 0.6204056 , 0.54943395, 0.645406  ],\n",
      "       [0.5257493 , 0.52171963, 0.5449931 , 0.5493517 ],\n",
      "       [0.5346311 , 0.7391577 , 0.57459885, 0.77863204],\n",
      "       [0.5082326 , 0.32994   , 0.61086595, 0.3516509 ],\n",
      "       [0.5151406 , 0.54326606, 0.53586465, 0.55346364],\n",
      "       [0.506999  , 0.41513884, 0.566704  , 0.4302707 ],\n",
      "       [0.5203216 , 0.2863537 , 0.6283827 , 0.31563053],\n",
      "       [0.5447464 , 0.9526482 , 0.6079054 , 0.9677801 ],\n",
      "       [0.50132453, 0.24079369, 0.62862945, 0.26842576],\n",
      "       [0.52402234, 0.67747897, 0.53783834, 0.6857028 ],\n",
      "       [0.51094645, 0.61251074, 0.5696646 , 0.6276426 ],\n",
      "       [0.5067523 , 0.32994   , 0.5945828 , 0.34572974]], dtype=float32)>, 'groundtruth_area': <tf.Tensor: shape=(0,), dtype=float32, numpy=array([], dtype=float32)>, 'groundtruth_is_crowd': <tf.Tensor: shape=(0,), dtype=bool, numpy=array([], dtype=bool)>, 'groundtruth_difficult': <tf.Tensor: shape=(0,), dtype=int64, numpy=array([], dtype=int64)>, 'groundtruth_group_of': <tf.Tensor: shape=(0,), dtype=bool, numpy=array([], dtype=bool)>, 'groundtruth_weights': <tf.Tensor: shape=(32,), dtype=float32, numpy=\n",
      "array([1., 1., 1., 1., 1., 1., 1., 1., 1., 1., 1., 1., 1., 1., 1., 1., 1.,\n",
      "       1., 1., 1., 1., 1., 1., 1., 1., 1., 1., 1., 1., 1., 1., 1.],\n",
      "      dtype=float32)>, 'groundtruth_classes': <tf.Tensor: shape=(32,), dtype=int64, numpy=\n",
      "array([1, 2, 1, 2, 2, 1, 2, 1, 2, 2, 1, 1, 2, 2, 2, 2, 1, 1, 1, 1, 1, 1,\n",
      "       1, 2, 1, 2, 2, 2, 2, 1, 2, 4])>, 'groundtruth_image_classes': <tf.Tensor: shape=(0,), dtype=int64, numpy=array([], dtype=int64)>, 'original_image_spatial_shape': <tf.Tensor: shape=(2,), dtype=int32, numpy=array([640, 640], dtype=int32)>}\n"
     ]
    }
   ],
   "source": [
    "# Display 10 random images in dataset\n",
    "#display_images(dataset.take(90))\n",
    "for data in dataset.take(1):\n",
    "    print(data)"
   ]
  },
  {
   "cell_type": "markdown",
   "metadata": {},
   "source": [
    "## Additional EDA\n",
    "\n",
    "In this last part, you are free to perform any additional analysis of the dataset. What else would like to know about the data?\n",
    "For example, think about data distribution. So far, you have only looked at a single file..."
   ]
  },
  {
   "cell_type": "code",
   "execution_count": null,
   "metadata": {},
   "outputs": [],
   "source": []
  }
 ],
 "metadata": {
  "kernelspec": {
   "display_name": "Python 3",
   "language": "python",
   "name": "python3"
  },
  "language_info": {
   "codemirror_mode": {
    "name": "ipython",
    "version": 3
   },
   "file_extension": ".py",
   "mimetype": "text/x-python",
   "name": "python",
   "nbconvert_exporter": "python",
   "pygments_lexer": "ipython3",
   "version": "3.7.3"
  }
 },
 "nbformat": 4,
 "nbformat_minor": 4
}
